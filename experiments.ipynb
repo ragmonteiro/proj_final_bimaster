{
 "cells": [
  {
   "cell_type": "markdown",
   "metadata": {},
   "source": [
    "#### Carrega as variaveis de ambiente para executar o notebook"
   ]
  },
  {
   "cell_type": "code",
   "execution_count": 1,
   "metadata": {},
   "outputs": [],
   "source": [
    "%load_ext dotenv\n",
    "%dotenv"
   ]
  },
  {
   "cell_type": "code",
   "execution_count": 2,
   "metadata": {},
   "outputs": [],
   "source": [
    "from data_preparation import PreProcess\n",
    "from db_access import StockHistory\n",
    "import os\n",
    "\n",
    "\n",
    "# Obtem o historico de precos dos ativos\n",
    "\n",
    "str_conn = os.environ.get(\"STR_CON\")\n",
    "dbo = StockHistory(str_conn)\n",
    "df = dbo.select()\n",
    "\n",
    "\n",
    "stock = \"YDUQ3\"\n",
    "df = df.loc[df['ticker']==stock]\n",
    "\n"
   ]
  },
  {
   "cell_type": "code",
   "execution_count": 3,
   "metadata": {},
   "outputs": [
    {
     "data": {
      "text/plain": [
       "(2473, 7)"
      ]
     },
     "execution_count": 3,
     "metadata": {},
     "output_type": "execute_result"
    }
   ],
   "source": [
    "df.shape"
   ]
  },
  {
   "cell_type": "code",
   "execution_count": 4,
   "metadata": {},
   "outputs": [
    {
     "name": "stdout",
     "output_type": "stream",
     "text": [
      "Processing strategy: Combinacao de 2 medias moveis (7 e 21 dias) e OBV \n",
      "Calculating EMA_7...\n",
      "Calculating EMA_21...\n",
      "Calculating OBV...\n",
      "Processing strategy: Combinacao de Bolinger Bands (14, 2, 2), ADX e OBV \n",
      "Calculating BBANDS_14_2_2_EMA...\n",
      "Calculating ADX...\n",
      "Calculating OBV...\n",
      "Processing strategy: Combinacao de 2 medias moveis (7 e 21 dias) e OBV \n",
      "Calculating MIDPRICE_14...\n",
      "Calculating KMA_14...\n",
      "Calculating OBV...\n"
     ]
    }
   ],
   "source": [
    "pre_process = PreProcess(\"strategies.json\")\n",
    "pre_process.create_datasets(df, \"data/datasets\", stock)\n"
   ]
  }
 ],
 "metadata": {
  "kernelspec": {
   "display_name": "Python 3.8.13 ('venv': venv)",
   "language": "python",
   "name": "python3"
  },
  "language_info": {
   "codemirror_mode": {
    "name": "ipython",
    "version": 3
   },
   "file_extension": ".py",
   "mimetype": "text/x-python",
   "name": "python",
   "nbconvert_exporter": "python",
   "pygments_lexer": "ipython3",
   "version": "3.8.13"
  },
  "orig_nbformat": 4,
  "vscode": {
   "interpreter": {
    "hash": "f64a0c74deb7bf3d7e8c14a97df286b247c1f958d3f0c1561601ce3ec5d62e37"
   }
  }
 },
 "nbformat": 4,
 "nbformat_minor": 2
}
