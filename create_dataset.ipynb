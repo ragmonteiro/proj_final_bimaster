{
 "cells": [
  {
   "cell_type": "markdown",
   "metadata": {},
   "source": [
    "### Objetivo do Nobook \n",
    "<p>O objetivo deste notebook é extrair o histórico de preços de ações de banco de dados relacional, acrescentar os indicadores técnicos e gravá-los no formato <b>parquet</b> para que sejam usados no processo de preparação dos dados para o treinamento do modelo de machine learning. O primeiro passo é obter os dados históricos de negociação de cada ativo gravá-los como arquivos individuais em disco. Estes arquivos devem conter as seguintes colunas:</p>\n",
    "<ul>\n",
    "<li>ticker - Código de negociação do ativo</li>\n",
    "<li>dt_price - Data de negociação</li>\n",
    "<li>open - Preço de abertura no dia</li>\n",
    "<li>close - Preço de fechameto no dia</li>\n",
    "<li>high - Preço máximo no dia</li>\n",
    "<li>low - Preço mínimo no dia</li>\n",
    "<li>volume - Volume financeiro negociado do ativo no dia</li>\n",
    "</ul>\n",
    "<p>É fundamental que os arquivos contenham exatamente estas colunas, pois a biblioteca TA-Lib (utilizada para calcularos indicadores técnicos) espera estes nomes como parâmetros de entrada para suas funções.</p>\n",
    "<p><b>Exemplo</b>:</p>\n",
    "<p>Lista de ativos recuperados do banco de dados: [PETR4, ITUB4, VALE3, ABEV3]</p>\n",
    "<p>Arquivos gerados:</p>\n",
    "<ul>\n",
    "<li> PETR4.parquet </li>\n",
    "<li> ITUB4.parquet </li>\n",
    "<li> VALE3.parquet </li>\n",
    "<li> ABEV3.parquet </li>\n",
    "<ul>"
   ]
  },
  {
   "cell_type": "code",
   "execution_count": 1,
   "metadata": {},
   "outputs": [],
   "source": [
    "# Carrega as variáveis de embiente usadas pelo notebook. Estas variáveis devem ser criadas no arquivo .env, localizada no mesmo diretório do notebook\n",
    "%load_ext dotenv\n",
    "%dotenv"
   ]
  },
  {
   "cell_type": "code",
   "execution_count": null,
   "metadata": {},
   "outputs": [],
   "source": [
    "from data_preparation import PreProcess\n",
    "from db_access import StockHistory, ExportToParquet\n",
    "import os\n",
    "\n",
    "\n",
    "# Obtem o historico de precos dos ativos \n",
    "str_conn = os.environ.get(\"STR_CON\")\n",
    "raw_fil_path = os.environ.get(\"RAW_DATA_PATH\")\n",
    "exporter = ExportToParquet()\n",
    "dbo = StockHistory(str_conn)\n",
    "df = dbo.select()\n",
    "\n",
    "for stock in df['ticker'].unique():\n",
    "    print(f\"Processando ativo {stock}\")\n",
    "    df_aux = df.loc[df['ticker'] == stock]\n",
    "    exporter.export(df_aux, raw_fil_path, stock)"
   ]
  },
  {
   "cell_type": "markdown",
   "metadata": {},
   "source": [
    "<p>Uma vez que os arquivos com os dados históricos tenham sido gerados, o segudo passo da preparação dos datasets é iniciado. Neste passo serão incluídos indicadores técnicos ao histórico de preço de cada ativo para montar as estratégias de negociação que serão usados como entrada para os modelos. Uma estratégia de negociação nada mais é do que a combinação de indicadores técnicos que serão usados como features em modelos de machine learning. Durante o processo de treinamento serão usadas diversas combinações de indicadores e períodos diferentes com o objetivo de encontrar a configuração que obtenha a melhor acurácia na seleção dos ativos mais rentáveis.</p>\n",
    "<p>Para automatizar o processo, as estratégias de negociação são configuradas em um arquivo json com a seguinte estrutura:</p>\n",
    "<code>\n",
    "<pre>\n",
    "    \"&lt;nome da estrategia&gt;\":{\n",
    "        \"description\": \"&lt;Descrição da estratégia&gt;\",\n",
    "        \"historic_period\": &lt;Número inteiro que irá definir o total dias usados pelo modelo. Por exemplo, o modelo receberá um histórico de preço de \n",
    "                            60 dias para classificar o ativo&gt;,\n",
    "        \"profit_period\": &lt;Número inteiro que definirá o período usado para calcular a rentabilidade do ativo (será usado para definir seu label).\n",
    "                          Por exemplo, o modelo reberá 60 dias de cotação para classificar o ativo, se este parâmetro for setado para 10, a rentablidade \n",
    "                          usada para definir o label será calclada como: \n",
    "                          preço 10 dias após a o último dia da série de entrada/preço do último dia da série de entrada - 1&gt;,\n",
    "        \"profit\": &lt;Rentabilidade usada para definir o label de classificação de cada registro enviado para o modelo durante o treinamento. Por exemplo,\n",
    "                   Se o objetivo do modelo for identificar ativos que possuam rentabiliade superior a 5% em um período de 20 dias, o valor atribuído para\n",
    "                   este parâmetro deve ser 0.05&gt;,\n",
    "        \"functions\": { -- Lista de funções que fazem parte da estratégia de negociação\n",
    "            \"&lt;nome \"fantasia\" da função&gt;\":{\n",
    "                \"function\": \"&lt;nome da função na biblioteca TA-Lib, será usado para chamar a função no código&gt;\",\n",
    "                \"params\":{ -- Lista de parâmetros da função (parâmetros relacionados ao preço do ativo não devem ser listados aqui)\n",
    "                    \"&lt;nome da parâmetro&gt;\": &lt;valor&gt;7\n",
    "                }                \n",
    "            }\n",
    "        }\n",
    "    }\n",
    "</pre>\n",
    "</code>\n",
    "<p>Exemplo de configuração:</p>\n",
    "<p>Neste exemplo, a estratégia considera 90 dias de histórico de preço do ativo para classificar ativos que tenham rentabilidade superior a 5% em um período de 22 dias e para fazer isso, utiliza além do histórico de cotações os indicadores: Média móvel exponencial de 7 e 21 dias e o OBV.</p>\n",
    "<code>\n",
    "<pre>\n",
    "{\n",
    "    \"EMA_7_21_OBV\":{\n",
    "        \"description\": \"Combinacao de 2 medias moveis (7 e 21 dias) e OBV \",\n",
    "        \"historic_period\": 90,\n",
    "        \"profit_period\": 22,\n",
    "        \"profit\": 0.05,\n",
    "        \"functions\": {\n",
    "            \"EMA_7\":{\n",
    "                \"function\": \"EMA\",\n",
    "                \"params\":{\n",
    "                    \"timeperiod\": 7\n",
    "                }\n",
    "            },\n",
    "            \"EMA_21\": {\n",
    "                \"function\": \"EMA\",\n",
    "                \"params\":{\n",
    "                    \"timeperiod\": 21\n",
    "                }            \n",
    "            },\n",
    "            \"OBV\":{\n",
    "                \"function\": \"OBV\"                  \n",
    "            }\n",
    "        }\n",
    "    }\n",
    "}\n",
    "</pre>\n",
    "</code>"
   ]
  },
  {
   "cell_type": "code",
   "execution_count": null,
   "metadata": {},
   "outputs": [],
   "source": []
  }
 ],
 "metadata": {
  "kernelspec": {
   "display_name": "Python 3.8.13 ('venv': venv)",
   "language": "python",
   "name": "python3"
  },
  "language_info": {
   "codemirror_mode": {
    "name": "ipython",
    "version": 3
   },
   "file_extension": ".py",
   "mimetype": "text/x-python",
   "name": "python",
   "nbconvert_exporter": "python",
   "pygments_lexer": "ipython3",
   "version": "3.8.13"
  },
  "orig_nbformat": 4,
  "vscode": {
   "interpreter": {
    "hash": "f64a0c74deb7bf3d7e8c14a97df286b247c1f958d3f0c1561601ce3ec5d62e37"
   }
  }
 },
 "nbformat": 4,
 "nbformat_minor": 2
}
