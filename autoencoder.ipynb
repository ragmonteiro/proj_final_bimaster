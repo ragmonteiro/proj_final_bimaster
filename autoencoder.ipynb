{
 "cells": [
  {
   "cell_type": "code",
   "execution_count": 7,
   "metadata": {},
   "outputs": [
    {
     "name": "stdout",
     "output_type": "stream",
     "text": [
      "The dotenv extension is already loaded. To reload it, use:\n",
      "  %reload_ext dotenv\n",
      "The autoreload extension is already loaded. To reload it, use:\n",
      "  %reload_ext autoreload\n"
     ]
    }
   ],
   "source": [
    "# Carrega as variáveis de embiente usadas pelo notebook. Estas variáveis devem ser criadas no arquivo .env, localizada no mesmo diretório do notebook\n",
    "# As seguintes variáveis devem ser criadas:\n",
    "# - export STR_CON=<string de conexão com o banco de dados relacional>\n",
    "# - export RAW_DATA_PATH=<caminho onde os arquivos contendo o histórico de preço de cada ativo será armazenado>\n",
    "# - export DATASET_PATH=<caminho onde os arquivos contendo o histórico de preço e os indicadores técnicos serão armazenados>\n",
    "# - export MODELS_PATH=<caminnho onde os modelos treinados serão armazenados>\n",
    "# - export TRAIN_DATASET=<caminho onde os datasets estandarizados e formatados para o treinamento serão armazenados>\n",
    "%load_ext dotenv\n",
    "%dotenv\n",
    "\n",
    "# Garante que os scripts Python sejam recarregados em cada execução do notebook.\n",
    "%load_ext autoreload\n",
    "%autoreload 2"
   ]
  },
  {
   "cell_type": "code",
   "execution_count": 21,
   "metadata": {},
   "outputs": [],
   "source": [
    "import pandas as pd\n",
    "import numpy as np\n",
    "from data_preparation import PreProcess\n",
    "\n",
    "preprocess = PreProcess()\n",
    "df_train = preprocess.read_dataset_from_parquet(\"data/train_dataset/indicadores_com_sinais/train_data.parquet\")\n",
    "df_test = preprocess.read_dataset_from_parquet(\"data/train_dataset/indicadores_com_sinais/test_data.parquet\")\n",
    "\n",
    "X_Train = np.array([val[0] for val in df_train.loc[df_train.label == 1].values])\n",
    "X_Test = np.array([val[0] for val in df_test.loc[df_test.label == 1].values])"
   ]
  },
  {
   "cell_type": "code",
   "execution_count": 22,
   "metadata": {},
   "outputs": [
    {
     "data": {
      "text/plain": [
       "(21555, 45, 9)"
      ]
     },
     "execution_count": 22,
     "metadata": {},
     "output_type": "execute_result"
    }
   ],
   "source": [
    "X_Train.shape"
   ]
  },
  {
   "cell_type": "code",
   "execution_count": 23,
   "metadata": {},
   "outputs": [
    {
     "name": "stdout",
     "output_type": "stream",
     "text": [
      "Model: \"model_1\"\n",
      "_________________________________________________________________\n",
      " Layer (type)                Output Shape              Param #   \n",
      "=================================================================\n",
      " input_2 (InputLayer)        [(None, 45, 9)]           0         \n",
      "                                                                 \n",
      " lstm_4 (LSTM)               (None, 45, 32)            5376      \n",
      "                                                                 \n",
      " lstm_5 (LSTM)               (None, 16)                3136      \n",
      "                                                                 \n",
      " repeat_vector_1 (RepeatVect  (None, 45, 16)           0         \n",
      " or)                                                             \n",
      "                                                                 \n",
      " lstm_6 (LSTM)               (None, 45, 16)            2112      \n",
      "                                                                 \n",
      " lstm_7 (LSTM)               (None, 45, 32)            6272      \n",
      "                                                                 \n",
      " time_distributed_1 (TimeDis  (None, 45, 9)            297       \n",
      " tributed)                                                       \n",
      "                                                                 \n",
      "=================================================================\n",
      "Total params: 17,193\n",
      "Trainable params: 17,193\n",
      "Non-trainable params: 0\n",
      "_________________________________________________________________\n"
     ]
    }
   ],
   "source": [
    "from keras.layers import Input, LSTM, RepeatVector, Dense, LeakyReLU, TimeDistributed\n",
    "from keras.models import Model, Sequential\n",
    "from keras.callbacks import EarlyStopping, ModelCheckpoint\n",
    "from keras.utils import plot_model\n",
    "\n",
    "\n",
    "input_data = Input((X_Train.shape[1], X_Train.shape[2]) )\n",
    "# Encoder\n",
    "encoder = LSTM(32, input_shape=X_Train.shape, return_sequences=True)(input_data)\n",
    "encoder = LSTM(16, input_shape=X_Train.shape)(encoder)\n",
    "# _encoder = Sequential([\n",
    "#     LSTM(50, input_shape=X_Train[0].shape)\n",
    "# ])\n",
    "\n",
    "# _decoder = Sequential([\n",
    "#     RepeatVector(X_Train.shape[1]),\n",
    "#     LSTM(50, return_sequences=True),\n",
    "#     TimeDistributed(Dense(X_Train.shape[2]))])\n",
    "\n",
    "bridge = RepeatVector(X_Train.shape[1])(encoder)\n",
    "\n",
    "# Decoder\n",
    "decoder = LSTM(16, input_shape=X_Train.shape, return_sequences=True)(bridge)\n",
    "decoder = LSTM(32, input_shape=X_Train.shape, return_sequences=True)(decoder)\n",
    "decoder = TimeDistributed(Dense(X_Train.shape[2]))(decoder)\n",
    "\n",
    "autoencoder = Model(input_data, decoder)\n",
    "# model = Sequential([_encoder, _decoder])\n",
    "# model.compile(optimizer='adam', loss='mse')\n",
    "\n",
    "autoencoder.summary()\n",
    "plot_model(autoencoder, 'autoencoder_compress.png', show_shapes=True)\n",
    "# plot_model(_decoder, 'autoencoder_decompress.png', show_shapes=True)\n",
    "\n",
    "autoencoder.compile(loss='mae', \n",
    "                    optimizer='adam')"
   ]
  },
  {
   "cell_type": "code",
   "execution_count": 26,
   "metadata": {},
   "outputs": [
    {
     "name": "stdout",
     "output_type": "stream",
     "text": [
      "Epoch 1/200\n",
      "674/674 [==============================] - ETA: 0s - loss: 0.0481\n",
      "Epoch 1: val_loss improved from inf to 0.04814, saving model to data/tf_models/autoencoder/autoencoder_01-0.0481.h5\n",
      "674/674 [==============================] - 123s 182ms/step - loss: 0.0481 - val_loss: 0.0481 - lr: 0.0010\n",
      "Epoch 2/200\n",
      "674/674 [==============================] - ETA: 0s - loss: 0.0481\n",
      "Epoch 2: val_loss did not improve from 0.04814\n",
      "674/674 [==============================] - 120s 178ms/step - loss: 0.0481 - val_loss: 0.0481 - lr: 0.0010\n",
      "Epoch 3/200\n",
      "674/674 [==============================] - ETA: 0s - loss: 0.0480\n",
      "Epoch 3: val_loss improved from 0.04814 to 0.04808, saving model to data/tf_models/autoencoder/autoencoder_03-0.0481.h5\n",
      "674/674 [==============================] - 118s 175ms/step - loss: 0.0480 - val_loss: 0.0481 - lr: 0.0010\n",
      "Epoch 4/200\n",
      "674/674 [==============================] - ETA: 0s - loss: 0.0479\n",
      "Epoch 4: val_loss improved from 0.04808 to 0.04797, saving model to data/tf_models/autoencoder/autoencoder_04-0.0480.h5\n",
      "674/674 [==============================] - 114s 170ms/step - loss: 0.0479 - val_loss: 0.0480 - lr: 0.0010\n",
      "Epoch 5/200\n",
      "674/674 [==============================] - ETA: 0s - loss: 0.0479\n",
      "Epoch 5: val_loss did not improve from 0.04797\n",
      "674/674 [==============================] - 113s 167ms/step - loss: 0.0479 - val_loss: 0.0480 - lr: 0.0010\n",
      "Epoch 6/200\n",
      "674/674 [==============================] - ETA: 0s - loss: 0.0478\n",
      "Epoch 6: val_loss improved from 0.04797 to 0.04794, saving model to data/tf_models/autoencoder/autoencoder_06-0.0479.h5\n",
      "674/674 [==============================] - 108s 160ms/step - loss: 0.0478 - val_loss: 0.0479 - lr: 0.0010\n",
      "Epoch 7/200\n",
      "674/674 [==============================] - ETA: 0s - loss: 0.0477\n",
      "Epoch 7: val_loss did not improve from 0.04794\n",
      "674/674 [==============================] - 103s 153ms/step - loss: 0.0477 - val_loss: 0.0483 - lr: 0.0010\n",
      "Epoch 8/200\n",
      "674/674 [==============================] - ETA: 0s - loss: 0.0476\n",
      "Epoch 8: val_loss improved from 0.04794 to 0.04743, saving model to data/tf_models/autoencoder/autoencoder_08-0.0474.h5\n",
      "674/674 [==============================] - 104s 155ms/step - loss: 0.0476 - val_loss: 0.0474 - lr: 0.0010\n",
      "Epoch 9/200\n",
      "674/674 [==============================] - ETA: 0s - loss: 0.0472\n",
      "Epoch 9: val_loss improved from 0.04743 to 0.04672, saving model to data/tf_models/autoencoder/autoencoder_09-0.0467.h5\n",
      "674/674 [==============================] - 103s 153ms/step - loss: 0.0472 - val_loss: 0.0467 - lr: 0.0010\n",
      "Epoch 10/200\n",
      "674/674 [==============================] - ETA: 0s - loss: 0.0468\n",
      "Epoch 10: val_loss improved from 0.04672 to 0.04648, saving model to data/tf_models/autoencoder/autoencoder_10-0.0465.h5\n",
      "674/674 [==============================] - 104s 155ms/step - loss: 0.0468 - val_loss: 0.0465 - lr: 0.0010\n",
      "Epoch 11/200\n",
      "674/674 [==============================] - ETA: 0s - loss: 0.0466\n",
      "Epoch 11: val_loss improved from 0.04648 to 0.04627, saving model to data/tf_models/autoencoder/autoencoder_11-0.0463.h5\n",
      "674/674 [==============================] - 104s 154ms/step - loss: 0.0466 - val_loss: 0.0463 - lr: 0.0010\n",
      "Epoch 12/200\n",
      "674/674 [==============================] - ETA: 0s - loss: 0.0464\n",
      "Epoch 12: val_loss improved from 0.04627 to 0.04625, saving model to data/tf_models/autoencoder/autoencoder_12-0.0462.h5\n",
      "674/674 [==============================] - 105s 155ms/step - loss: 0.0464 - val_loss: 0.0462 - lr: 0.0010\n",
      "Epoch 13/200\n",
      "674/674 [==============================] - ETA: 0s - loss: 0.0463\n",
      "Epoch 13: val_loss did not improve from 0.04625\n",
      "674/674 [==============================] - 105s 155ms/step - loss: 0.0463 - val_loss: 0.0467 - lr: 0.0010\n",
      "Epoch 14/200\n",
      "674/674 [==============================] - ETA: 0s - loss: 0.0462\n",
      "Epoch 14: val_loss did not improve from 0.04625\n",
      "674/674 [==============================] - 104s 154ms/step - loss: 0.0462 - val_loss: 0.0463 - lr: 0.0010\n",
      "Epoch 15/200\n",
      "674/674 [==============================] - ETA: 0s - loss: 0.0461\n",
      "Epoch 15: val_loss did not improve from 0.04625\n",
      "674/674 [==============================] - 104s 155ms/step - loss: 0.0461 - val_loss: 0.0463 - lr: 0.0010\n",
      "Epoch 16/200\n",
      "674/674 [==============================] - ETA: 0s - loss: 0.0461\n",
      "Epoch 16: val_loss did not improve from 0.04625\n",
      "674/674 [==============================] - 104s 155ms/step - loss: 0.0461 - val_loss: 0.0463 - lr: 0.0010\n",
      "Epoch 17/200\n",
      "674/674 [==============================] - ETA: 0s - loss: 0.0460\n",
      "Epoch 17: val_loss improved from 0.04625 to 0.04617, saving model to data/tf_models/autoencoder/autoencoder_17-0.0462.h5\n",
      "674/674 [==============================] - 104s 155ms/step - loss: 0.0460 - val_loss: 0.0462 - lr: 0.0010\n",
      "Epoch 18/200\n",
      "674/674 [==============================] - ETA: 0s - loss: 0.0460\n",
      "Epoch 18: val_loss improved from 0.04617 to 0.04588, saving model to data/tf_models/autoencoder/autoencoder_18-0.0459.h5\n",
      "674/674 [==============================] - 105s 156ms/step - loss: 0.0460 - val_loss: 0.0459 - lr: 0.0010\n",
      "Epoch 19/200\n",
      "674/674 [==============================] - ETA: 0s - loss: 0.0459\n",
      "Epoch 19: val_loss did not improve from 0.04588\n",
      "674/674 [==============================] - 104s 154ms/step - loss: 0.0459 - val_loss: 0.0462 - lr: 0.0010\n"
     ]
    },
    {
     "data": {
      "text/plain": [
       "<keras.callbacks.History at 0x1617e1700>"
      ]
     },
     "execution_count": 26,
     "metadata": {},
     "output_type": "execute_result"
    }
   ],
   "source": [
    "from keras.callbacks import ReduceLROnPlateau\n",
    "\n",
    "batch_size = 32\n",
    "epochs = 200\n",
    "\n",
    "cp_early_stopping = EarlyStopping(monitor='val_loss', \n",
    "                               patience=10, \n",
    "                               min_delta=0.001, \n",
    "                               mode='min')\n",
    "                               \n",
    "cp_model_checkpoint = ModelCheckpoint(\"data/tf_models/autoencoder/autoencoder_{epoch:02d}-{val_loss:.4f}.h5\",\n",
    "                                monitor=f'val_loss',\n",
    "                                save_best_only=True,\n",
    "                                verbose=1,\n",
    "                                mode=\"min\")\n",
    "\n",
    "cb_reduce_lr_on_plateu = ReduceLROnPlateau(monitor=f\"val_loss\",\n",
    "                                            factor=0.1,\n",
    "                                            patience=10,\n",
    "                                            verbose=0,\n",
    "                                            mode=\"min\",\n",
    "                                            min_delta=0.0001,\n",
    "                                            cooldown=0,\n",
    "                                            min_lr=0.0000001)\n",
    "\n",
    "autoencoder.fit(X_Train, X_Train, \n",
    "                batch_size=batch_size, \n",
    "                epochs=epochs, \n",
    "                validation_data=(X_Test, X_Test), \n",
    "                callbacks=[cp_early_stopping, cp_model_checkpoint, cb_reduce_lr_on_plateu])\n",
    "\n",
    "# loss 0.04623"
   ]
  },
  {
   "cell_type": "code",
   "execution_count": 6,
   "metadata": {},
   "outputs": [
    {
     "name": "stderr",
     "output_type": "stream",
     "text": [
      "2023-01-16 19:17:53.760417: I tensorflow/core/grappler/optimizers/custom_graph_optimizer_registry.cc:114] Plugin optimizer for device_type GPU is enabled.\n"
     ]
    },
    {
     "name": "stdout",
     "output_type": "stream",
     "text": [
      "306/306 [==============================] - 21s 63ms/step\n",
      "Accuracy: 0.6111\n",
      "Matriz de confusao:\n",
      " [[5427  499]\n",
      " [3299  541]]\n",
      "Precision: 0.5202\n",
      "Recall: 0.1409\n",
      "F1 Score: 0.2217\n"
     ]
    }
   ],
   "source": [
    "from sklearn.model_selection import cross_val_predict\n",
    "from sklearn.metrics import accuracy_score, confusion_matrix, precision_score, recall_score, f1_score\n",
    "from keras.models import load_model\n",
    "\n",
    "model = load_model(\"data/tf_models/final_model/model-53-0.5709.h5\")\n",
    "\n",
    "df_test = preprocess.read_dataset_from_parquet(\"data/train_dataset/indicadores_com_sinais/test_data.parquet\")\n",
    "\n",
    "X_TS_Test = np.array([val[0] for val in df_test.values])\n",
    "Y_test = df_test.pop('label')\n",
    "X_SIG_Test = df_test[df_test.columns[~df_test.columns.isin(['series'])]].values\n",
    "\n",
    "Y_test_predict = (model.predict([X_TS_Test, X_SIG_Test]).flatten() > 0.5).astype(int)\n",
    "print(f\"Accuracy: {accuracy_score(Y_test.values, Y_test_predict):.4f}\")\n",
    "print(\"Matriz de confusao:\\n\", confusion_matrix(Y_test.values, Y_test_predict))\n",
    "print(f\"Precision: {precision_score(Y_test.values, Y_test_predict):.4f}\")\n",
    "print(f\"Recall: {recall_score(Y_test.values, Y_test_predict):.4f}\")\n",
    "print(f\"F1 Score: {f1_score(Y_test.values, Y_test_predict):.4f}\")"
   ]
  },
  {
   "cell_type": "code",
   "execution_count": null,
   "metadata": {},
   "outputs": [
    {
     "data": {
      "text/html": [
       "<style>#sk-container-id-2 {color: black;background-color: white;}#sk-container-id-2 pre{padding: 0;}#sk-container-id-2 div.sk-toggleable {background-color: white;}#sk-container-id-2 label.sk-toggleable__label {cursor: pointer;display: block;width: 100%;margin-bottom: 0;padding: 0.3em;box-sizing: border-box;text-align: center;}#sk-container-id-2 label.sk-toggleable__label-arrow:before {content: \"▸\";float: left;margin-right: 0.25em;color: #696969;}#sk-container-id-2 label.sk-toggleable__label-arrow:hover:before {color: black;}#sk-container-id-2 div.sk-estimator:hover label.sk-toggleable__label-arrow:before {color: black;}#sk-container-id-2 div.sk-toggleable__content {max-height: 0;max-width: 0;overflow: hidden;text-align: left;background-color: #f0f8ff;}#sk-container-id-2 div.sk-toggleable__content pre {margin: 0.2em;color: black;border-radius: 0.25em;background-color: #f0f8ff;}#sk-container-id-2 input.sk-toggleable__control:checked~div.sk-toggleable__content {max-height: 200px;max-width: 100%;overflow: auto;}#sk-container-id-2 input.sk-toggleable__control:checked~label.sk-toggleable__label-arrow:before {content: \"▾\";}#sk-container-id-2 div.sk-estimator input.sk-toggleable__control:checked~label.sk-toggleable__label {background-color: #d4ebff;}#sk-container-id-2 div.sk-label input.sk-toggleable__control:checked~label.sk-toggleable__label {background-color: #d4ebff;}#sk-container-id-2 input.sk-hidden--visually {border: 0;clip: rect(1px 1px 1px 1px);clip: rect(1px, 1px, 1px, 1px);height: 1px;margin: -1px;overflow: hidden;padding: 0;position: absolute;width: 1px;}#sk-container-id-2 div.sk-estimator {font-family: monospace;background-color: #f0f8ff;border: 1px dotted black;border-radius: 0.25em;box-sizing: border-box;margin-bottom: 0.5em;}#sk-container-id-2 div.sk-estimator:hover {background-color: #d4ebff;}#sk-container-id-2 div.sk-parallel-item::after {content: \"\";width: 100%;border-bottom: 1px solid gray;flex-grow: 1;}#sk-container-id-2 div.sk-label:hover label.sk-toggleable__label {background-color: #d4ebff;}#sk-container-id-2 div.sk-serial::before {content: \"\";position: absolute;border-left: 1px solid gray;box-sizing: border-box;top: 0;bottom: 0;left: 50%;z-index: 0;}#sk-container-id-2 div.sk-serial {display: flex;flex-direction: column;align-items: center;background-color: white;padding-right: 0.2em;padding-left: 0.2em;position: relative;}#sk-container-id-2 div.sk-item {position: relative;z-index: 1;}#sk-container-id-2 div.sk-parallel {display: flex;align-items: stretch;justify-content: center;background-color: white;position: relative;}#sk-container-id-2 div.sk-item::before, #sk-container-id-2 div.sk-parallel-item::before {content: \"\";position: absolute;border-left: 1px solid gray;box-sizing: border-box;top: 0;bottom: 0;left: 50%;z-index: -1;}#sk-container-id-2 div.sk-parallel-item {display: flex;flex-direction: column;z-index: 1;position: relative;background-color: white;}#sk-container-id-2 div.sk-parallel-item:first-child::after {align-self: flex-end;width: 50%;}#sk-container-id-2 div.sk-parallel-item:last-child::after {align-self: flex-start;width: 50%;}#sk-container-id-2 div.sk-parallel-item:only-child::after {width: 0;}#sk-container-id-2 div.sk-dashed-wrapped {border: 1px dashed gray;margin: 0 0.4em 0.5em 0.4em;box-sizing: border-box;padding-bottom: 0.4em;background-color: white;}#sk-container-id-2 div.sk-label label {font-family: monospace;font-weight: bold;display: inline-block;line-height: 1.2em;}#sk-container-id-2 div.sk-label-container {text-align: center;}#sk-container-id-2 div.sk-container {/* jupyter's `normalize.less` sets `[hidden] { display: none; }` but bootstrap.min.css set `[hidden] { display: none !important; }` so we also need the `!important` here to be able to override the default hidden behavior on the sphinx rendered scikit-learn.org. See: https://github.com/scikit-learn/scikit-learn/issues/21755 */display: inline-block !important;position: relative;}#sk-container-id-2 div.sk-text-repr-fallback {display: none;}</style><div id=\"sk-container-id-2\" class=\"sk-top-container\"><div class=\"sk-text-repr-fallback\"><pre>LogisticRegressionCV(cv=10, max_iter=500, n_jobs=-1)</pre><b>In a Jupyter environment, please rerun this cell to show the HTML representation or trust the notebook. <br />On GitHub, the HTML representation is unable to render, please try loading this page with nbviewer.org.</b></div><div class=\"sk-container\" hidden><div class=\"sk-item\"><div class=\"sk-estimator sk-toggleable\"><input class=\"sk-toggleable__control sk-hidden--visually\" id=\"sk-estimator-id-2\" type=\"checkbox\" checked><label for=\"sk-estimator-id-2\" class=\"sk-toggleable__label sk-toggleable__label-arrow\">LogisticRegressionCV</label><div class=\"sk-toggleable__content\"><pre>LogisticRegressionCV(cv=10, max_iter=500, n_jobs=-1)</pre></div></div></div></div></div>"
      ],
      "text/plain": [
       "LogisticRegressionCV(cv=10, max_iter=500, n_jobs=-1)"
      ]
     },
     "execution_count": 24,
     "metadata": {},
     "output_type": "execute_result"
    }
   ],
   "source": [
    "from sklearn.linear_model import LogisticRegressionCV\n",
    "\n",
    "logit = LogisticRegressionCV(cv=10, max_iter=500, n_jobs=-1)\n",
    "logit.fit(X_Train_repr, df_train['label'].values)"
   ]
  },
  {
   "cell_type": "code",
   "execution_count": null,
   "metadata": {},
   "outputs": [
    {
     "name": "stdout",
     "output_type": "stream",
     "text": [
      "0.6305157874092959\n",
      "[[6343   70]\n",
      " [3698   87]]\n",
      "0.554140127388535\n",
      "0.02298546895640687\n",
      "0.04414003044140031\n"
     ]
    }
   ],
   "source": [
    "from sklearn.model_selection import cross_val_predict\n",
    "from sklearn.metrics import accuracy_score, confusion_matrix, precision_score, recall_score, f1_score\n",
    "\n",
    "Y_test_predict = logit.predict(X_Test_repr)\n",
    "print(accuracy_score(df_test['label'].values, Y_test_predict))\n",
    "print(confusion_matrix(df_test['label'].values, Y_test_predict))\n",
    "print(precision_score(df_test['label'].values, Y_test_predict))\n",
    "print(recall_score(df_test['label'].values, Y_test_predict))\n",
    "print(f1_score(df_test['label'].values, Y_test_predict))"
   ]
  }
 ],
 "metadata": {
  "kernelspec": {
   "display_name": "Python 3.8.13 ('venv': venv)",
   "language": "python",
   "name": "python3"
  },
  "language_info": {
   "codemirror_mode": {
    "name": "ipython",
    "version": 3
   },
   "file_extension": ".py",
   "mimetype": "text/x-python",
   "name": "python",
   "nbconvert_exporter": "python",
   "pygments_lexer": "ipython3",
   "version": "3.8.13"
  },
  "orig_nbformat": 4,
  "vscode": {
   "interpreter": {
    "hash": "f64a0c74deb7bf3d7e8c14a97df286b247c1f958d3f0c1561601ce3ec5d62e37"
   }
  }
 },
 "nbformat": 4,
 "nbformat_minor": 2
}
