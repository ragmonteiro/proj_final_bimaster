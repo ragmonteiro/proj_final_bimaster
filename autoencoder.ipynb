{
 "cells": [
  {
   "cell_type": "code",
   "execution_count": 13,
   "metadata": {},
   "outputs": [
    {
     "name": "stdout",
     "output_type": "stream",
     "text": [
      "The dotenv extension is already loaded. To reload it, use:\n",
      "  %reload_ext dotenv\n",
      "The autoreload extension is already loaded. To reload it, use:\n",
      "  %reload_ext autoreload\n"
     ]
    }
   ],
   "source": [
    "# Carrega as variáveis de embiente usadas pelo notebook. Estas variáveis devem ser criadas no arquivo .env, localizada no mesmo diretório do notebook\n",
    "# As seguintes variáveis devem ser criadas:\n",
    "# - export STR_CON=<string de conexão com o banco de dados relacional>\n",
    "# - export RAW_DATA_PATH=<caminho onde os arquivos contendo o histórico de preço de cada ativo será armazenado>\n",
    "# - export DATASET_PATH=<caminho onde os arquivos contendo o histórico de preço e os indicadores técnicos serão armazenados>\n",
    "# - export MODELS_PATH=<caminnho onde os modelos treinados serão armazenados>\n",
    "# - export TRAIN_DATASET=<caminho onde os datasets estandarizados e formatados para o treinamento serão armazenados>\n",
    "%load_ext dotenv\n",
    "%dotenv\n",
    "\n",
    "# Garante que os scripts Python sejam recarregados em cada execução do notebook.\n",
    "%load_ext autoreload\n",
    "%autoreload 2"
   ]
  },
  {
   "cell_type": "code",
   "execution_count": 14,
   "metadata": {},
   "outputs": [],
   "source": [
    "import pandas as pd\n",
    "import numpy as np\n",
    "from data_preparation import PreProcess\n",
    "\n",
    "preprocess = PreProcess()\n",
    "df_train = preprocess.read_dataset_from_parquet(\"data/train_dataset/indicadores_com_sinais/train_data.parquet\")\n",
    "df_test = preprocess.read_dataset_from_parquet(\"data/train_dataset/indicadores_com_sinais/test_data.parquet\")\n",
    "\n",
    "X_Train = np.array([val[0] for val in df_train.values])\n",
    "X_Test = np.array([val[0] for val in df_test.values])"
   ]
  },
  {
   "cell_type": "code",
   "execution_count": 15,
   "metadata": {},
   "outputs": [
    {
     "data": {
      "text/plain": [
       "(56503, 45, 25)"
      ]
     },
     "execution_count": 15,
     "metadata": {},
     "output_type": "execute_result"
    }
   ],
   "source": [
    "X_Train.shape"
   ]
  },
  {
   "cell_type": "code",
   "execution_count": 18,
   "metadata": {},
   "outputs": [
    {
     "name": "stdout",
     "output_type": "stream",
     "text": [
      "Model: \"model_4\"\n",
      "_________________________________________________________________\n",
      " Layer (type)                Output Shape              Param #   \n",
      "=================================================================\n",
      " input_5 (InputLayer)        [(None, 45, 25)]          0         \n",
      "                                                                 \n",
      " lstm_16 (LSTM)              (None, 45, 32)            7424      \n",
      "                                                                 \n",
      " lstm_17 (LSTM)              (None, 16)                3136      \n",
      "                                                                 \n",
      " repeat_vector_4 (RepeatVect  (None, 45, 16)           0         \n",
      " or)                                                             \n",
      "                                                                 \n",
      " lstm_18 (LSTM)              (None, 45, 16)            2112      \n",
      "                                                                 \n",
      " lstm_19 (LSTM)              (None, 45, 32)            6272      \n",
      "                                                                 \n",
      " time_distributed_4 (TimeDis  (None, 45, 25)           825       \n",
      " tributed)                                                       \n",
      "                                                                 \n",
      "=================================================================\n",
      "Total params: 19,769\n",
      "Trainable params: 19,769\n",
      "Non-trainable params: 0\n",
      "_________________________________________________________________\n"
     ]
    }
   ],
   "source": [
    "from keras.layers import Input, LSTM, RepeatVector, Dense, LeakyReLU, TimeDistributed\n",
    "from keras.models import Model, Sequential\n",
    "from keras.callbacks import EarlyStopping, ModelCheckpoint\n",
    "from keras.utils import plot_model\n",
    "\n",
    "\n",
    "input_data = Input((X_Train.shape[1], X_Train.shape[2]) )\n",
    "# Encoder\n",
    "encoder = LSTM(32, input_shape=X_Train.shape, return_sequences=True)(input_data)\n",
    "encoder = LSTM(16, input_shape=X_Train.shape)(encoder)\n",
    "# _encoder = Sequential([\n",
    "#     LSTM(50, input_shape=X_Train[0].shape)\n",
    "# ])\n",
    "\n",
    "# _decoder = Sequential([\n",
    "#     RepeatVector(X_Train.shape[1]),\n",
    "#     LSTM(50, return_sequences=True),\n",
    "#     TimeDistributed(Dense(X_Train.shape[2]))])\n",
    "\n",
    "bridge = RepeatVector(X_Train.shape[1])(encoder)\n",
    "\n",
    "# Decoder\n",
    "decoder = LSTM(16, input_shape=X_Train.shape, return_sequences=True)(bridge)\n",
    "decoder = LSTM(32, input_shape=X_Train.shape, return_sequences=True)(decoder)\n",
    "decoder = TimeDistributed(Dense(X_Train.shape[2]))(decoder)\n",
    "\n",
    "autoencoder = Model(input_data, decoder)\n",
    "# model = Sequential([_encoder, _decoder])\n",
    "# model.compile(optimizer='adam', loss='mse')\n",
    "\n",
    "autoencoder.summary()\n",
    "plot_model(autoencoder, 'autoencoder_compress.png', show_shapes=True)\n",
    "# plot_model(_decoder, 'autoencoder_decompress.png', show_shapes=True)\n",
    "\n",
    "autoencoder.compile(loss='mae', \n",
    "                    optimizer='adam')"
   ]
  },
  {
   "cell_type": "code",
   "execution_count": 19,
   "metadata": {},
   "outputs": [
    {
     "name": "stdout",
     "output_type": "stream",
     "text": [
      "Epoch 1/200\n"
     ]
    },
    {
     "name": "stderr",
     "output_type": "stream",
     "text": [
      "2022-12-28 20:33:47.739544: I tensorflow/core/grappler/optimizers/custom_graph_optimizer_registry.cc:114] Plugin optimizer for device_type GPU is enabled.\n",
      "2022-12-28 20:33:48.409247: I tensorflow/core/grappler/optimizers/custom_graph_optimizer_registry.cc:114] Plugin optimizer for device_type GPU is enabled.\n",
      "2022-12-28 20:33:48.592203: I tensorflow/core/grappler/optimizers/custom_graph_optimizer_registry.cc:114] Plugin optimizer for device_type GPU is enabled.\n",
      "2022-12-28 20:33:48.783600: I tensorflow/core/grappler/optimizers/custom_graph_optimizer_registry.cc:114] Plugin optimizer for device_type GPU is enabled.\n",
      "2022-12-28 20:33:48.980701: I tensorflow/core/grappler/optimizers/custom_graph_optimizer_registry.cc:114] Plugin optimizer for device_type GPU is enabled.\n",
      "2022-12-28 20:33:49.255774: I tensorflow/core/grappler/optimizers/custom_graph_optimizer_registry.cc:114] Plugin optimizer for device_type GPU is enabled.\n",
      "2022-12-28 20:33:49.571272: I tensorflow/core/grappler/optimizers/custom_graph_optimizer_registry.cc:114] Plugin optimizer for device_type GPU is enabled.\n",
      "2022-12-28 20:33:49.919644: I tensorflow/core/grappler/optimizers/custom_graph_optimizer_registry.cc:114] Plugin optimizer for device_type GPU is enabled.\n",
      "2022-12-28 20:33:50.217658: I tensorflow/core/grappler/optimizers/custom_graph_optimizer_registry.cc:114] Plugin optimizer for device_type GPU is enabled.\n"
     ]
    },
    {
     "name": "stdout",
     "output_type": "stream",
     "text": [
      "1766/1766 [==============================] - ETA: 0s - loss: 0.0956"
     ]
    },
    {
     "name": "stderr",
     "output_type": "stream",
     "text": [
      "2022-12-28 20:38:11.674035: I tensorflow/core/grappler/optimizers/custom_graph_optimizer_registry.cc:114] Plugin optimizer for device_type GPU is enabled.\n",
      "2022-12-28 20:38:11.897352: I tensorflow/core/grappler/optimizers/custom_graph_optimizer_registry.cc:114] Plugin optimizer for device_type GPU is enabled.\n",
      "2022-12-28 20:38:12.088611: I tensorflow/core/grappler/optimizers/custom_graph_optimizer_registry.cc:114] Plugin optimizer for device_type GPU is enabled.\n",
      "2022-12-28 20:38:12.271321: I tensorflow/core/grappler/optimizers/custom_graph_optimizer_registry.cc:114] Plugin optimizer for device_type GPU is enabled.\n",
      "2022-12-28 20:38:12.440171: I tensorflow/core/grappler/optimizers/custom_graph_optimizer_registry.cc:114] Plugin optimizer for device_type GPU is enabled.\n"
     ]
    },
    {
     "name": "stdout",
     "output_type": "stream",
     "text": [
      "\n",
      "Epoch 1: val_loss improved from inf to 0.08010, saving model to data/tf_models/autoencoder/autoencoder_01-0.0801.h5\n",
      "1766/1766 [==============================] - 293s 162ms/step - loss: 0.0956 - val_loss: 0.0801\n",
      "Epoch 2/200\n",
      "1766/1766 [==============================] - ETA: 0s - loss: 0.0719\n",
      "Epoch 2: val_loss improved from 0.08010 to 0.06559, saving model to data/tf_models/autoencoder/autoencoder_02-0.0656.h5\n",
      "1766/1766 [==============================] - 356s 202ms/step - loss: 0.0719 - val_loss: 0.0656\n",
      "Epoch 3/200\n",
      "1766/1766 [==============================] - ETA: 0s - loss: 0.0624\n",
      "Epoch 3: val_loss improved from 0.06559 to 0.05938, saving model to data/tf_models/autoencoder/autoencoder_03-0.0594.h5\n",
      "1766/1766 [==============================] - 300s 170ms/step - loss: 0.0624 - val_loss: 0.0594\n",
      "Epoch 4/200\n",
      "1766/1766 [==============================] - ETA: 0s - loss: 0.0586\n",
      "Epoch 4: val_loss improved from 0.05938 to 0.05889, saving model to data/tf_models/autoencoder/autoencoder_04-0.0589.h5\n",
      "1766/1766 [==============================] - 332s 188ms/step - loss: 0.0586 - val_loss: 0.0589\n",
      "Epoch 5/200\n",
      "1766/1766 [==============================] - ETA: 0s - loss: 0.0552\n",
      "Epoch 5: val_loss improved from 0.05889 to 0.05381, saving model to data/tf_models/autoencoder/autoencoder_05-0.0538.h5\n",
      "1766/1766 [==============================] - 236s 134ms/step - loss: 0.0552 - val_loss: 0.0538\n",
      "Epoch 6/200\n",
      "1766/1766 [==============================] - ETA: 0s - loss: 0.0517\n",
      "Epoch 6: val_loss improved from 0.05381 to 0.04981, saving model to data/tf_models/autoencoder/autoencoder_06-0.0498.h5\n",
      "1766/1766 [==============================] - 237s 134ms/step - loss: 0.0517 - val_loss: 0.0498\n",
      "Epoch 7/200\n",
      "1766/1766 [==============================] - ETA: 0s - loss: 0.0490\n",
      "Epoch 7: val_loss improved from 0.04981 to 0.04871, saving model to data/tf_models/autoencoder/autoencoder_07-0.0487.h5\n",
      "1766/1766 [==============================] - 236s 134ms/step - loss: 0.0490 - val_loss: 0.0487\n",
      "Epoch 8/200\n",
      "1766/1766 [==============================] - ETA: 0s - loss: 0.0480\n",
      "Epoch 8: val_loss improved from 0.04871 to 0.04774, saving model to data/tf_models/autoencoder/autoencoder_08-0.0477.h5\n",
      "1766/1766 [==============================] - 237s 134ms/step - loss: 0.0480 - val_loss: 0.0477\n",
      "Epoch 9/200\n",
      "1766/1766 [==============================] - ETA: 0s - loss: 0.0473\n",
      "Epoch 9: val_loss improved from 0.04774 to 0.04742, saving model to data/tf_models/autoencoder/autoencoder_09-0.0474.h5\n",
      "1766/1766 [==============================] - 236s 134ms/step - loss: 0.0473 - val_loss: 0.0474\n",
      "Epoch 10/200\n",
      "1766/1766 [==============================] - ETA: 0s - loss: 0.0465\n",
      "Epoch 10: val_loss improved from 0.04742 to 0.04598, saving model to data/tf_models/autoencoder/autoencoder_10-0.0460.h5\n",
      "1766/1766 [==============================] - 237s 134ms/step - loss: 0.0465 - val_loss: 0.0460\n",
      "Epoch 11/200\n",
      "1766/1766 [==============================] - ETA: 0s - loss: 0.0458\n",
      "Epoch 11: val_loss did not improve from 0.04598\n",
      "1766/1766 [==============================] - 237s 134ms/step - loss: 0.0458 - val_loss: 0.0467\n",
      "Epoch 12/200\n",
      "1766/1766 [==============================] - ETA: 0s - loss: 0.0454\n",
      "Epoch 12: val_loss improved from 0.04598 to 0.04533, saving model to data/tf_models/autoencoder/autoencoder_12-0.0453.h5\n",
      "1766/1766 [==============================] - 237s 134ms/step - loss: 0.0454 - val_loss: 0.0453\n",
      "Epoch 13/200\n",
      "1766/1766 [==============================] - ETA: 0s - loss: 0.0451\n",
      "Epoch 13: val_loss improved from 0.04533 to 0.04503, saving model to data/tf_models/autoencoder/autoencoder_13-0.0450.h5\n",
      "1766/1766 [==============================] - 237s 134ms/step - loss: 0.0451 - val_loss: 0.0450\n",
      "Epoch 14/200\n",
      "1766/1766 [==============================] - ETA: 0s - loss: 0.0442\n",
      "Epoch 14: val_loss improved from 0.04503 to 0.04371, saving model to data/tf_models/autoencoder/autoencoder_14-0.0437.h5\n",
      "1766/1766 [==============================] - 267s 151ms/step - loss: 0.0442 - val_loss: 0.0437\n",
      "Epoch 15/200\n",
      "1766/1766 [==============================] - ETA: 0s - loss: 0.0432\n",
      "Epoch 15: val_loss improved from 0.04371 to 0.04296, saving model to data/tf_models/autoencoder/autoencoder_15-0.0430.h5\n",
      "1766/1766 [==============================] - 287s 162ms/step - loss: 0.0432 - val_loss: 0.0430\n",
      "Epoch 16/200\n",
      "1766/1766 [==============================] - ETA: 0s - loss: 0.0426\n",
      "Epoch 16: val_loss improved from 0.04296 to 0.04259, saving model to data/tf_models/autoencoder/autoencoder_16-0.0426.h5\n",
      "1766/1766 [==============================] - 320s 181ms/step - loss: 0.0426 - val_loss: 0.0426\n",
      "Epoch 17/200\n",
      "1766/1766 [==============================] - ETA: 0s - loss: 0.0423\n",
      "Epoch 17: val_loss improved from 0.04259 to 0.04238, saving model to data/tf_models/autoencoder/autoencoder_17-0.0424.h5\n",
      "1766/1766 [==============================] - 320s 181ms/step - loss: 0.0423 - val_loss: 0.0424\n",
      "Epoch 18/200\n",
      "1766/1766 [==============================] - ETA: 0s - loss: 0.0421\n",
      "Epoch 18: val_loss did not improve from 0.04238\n",
      "1766/1766 [==============================] - 283s 160ms/step - loss: 0.0421 - val_loss: 0.0424\n",
      "Epoch 19/200\n",
      "1766/1766 [==============================] - ETA: 0s - loss: 0.0420\n",
      "Epoch 19: val_loss improved from 0.04238 to 0.04195, saving model to data/tf_models/autoencoder/autoencoder_19-0.0420.h5\n",
      "1766/1766 [==============================] - 363s 206ms/step - loss: 0.0420 - val_loss: 0.0420\n",
      "Epoch 20/200\n",
      "1766/1766 [==============================] - ETA: 0s - loss: 0.0417\n",
      "Epoch 20: val_loss improved from 0.04195 to 0.04187, saving model to data/tf_models/autoencoder/autoencoder_20-0.0419.h5\n",
      "1766/1766 [==============================] - 250s 141ms/step - loss: 0.0417 - val_loss: 0.0419\n",
      "Epoch 21/200\n",
      "1766/1766 [==============================] - ETA: 0s - loss: 0.0413\n",
      "Epoch 21: val_loss improved from 0.04187 to 0.04115, saving model to data/tf_models/autoencoder/autoencoder_21-0.0412.h5\n",
      "1766/1766 [==============================] - 263s 149ms/step - loss: 0.0413 - val_loss: 0.0412\n",
      "Epoch 22/200\n",
      "1766/1766 [==============================] - ETA: 0s - loss: 0.0409\n",
      "Epoch 22: val_loss improved from 0.04115 to 0.04092, saving model to data/tf_models/autoencoder/autoencoder_22-0.0409.h5\n",
      "1766/1766 [==============================] - 281s 159ms/step - loss: 0.0409 - val_loss: 0.0409\n",
      "Epoch 23/200\n",
      "1766/1766 [==============================] - ETA: 0s - loss: 0.0407\n",
      "Epoch 23: val_loss improved from 0.04092 to 0.04061, saving model to data/tf_models/autoencoder/autoencoder_23-0.0406.h5\n",
      "1766/1766 [==============================] - 305s 173ms/step - loss: 0.0407 - val_loss: 0.0406\n",
      "Epoch 24/200\n",
      "1766/1766 [==============================] - ETA: 0s - loss: 0.0405\n",
      "Epoch 24: val_loss did not improve from 0.04061\n",
      "1766/1766 [==============================] - 326s 185ms/step - loss: 0.0405 - val_loss: 0.0406\n",
      "Epoch 25/200\n",
      "1766/1766 [==============================] - ETA: 0s - loss: 0.0404\n",
      "Epoch 25: val_loss improved from 0.04061 to 0.04045, saving model to data/tf_models/autoencoder/autoencoder_25-0.0405.h5\n",
      "1766/1766 [==============================] - 237s 134ms/step - loss: 0.0404 - val_loss: 0.0405\n",
      "Epoch 26/200\n",
      "1766/1766 [==============================] - ETA: 0s - loss: 0.0403\n",
      "Epoch 26: val_loss did not improve from 0.04045\n",
      "1766/1766 [==============================] - 237s 134ms/step - loss: 0.0403 - val_loss: 0.0407\n",
      "Epoch 27/200\n",
      "1766/1766 [==============================] - ETA: 0s - loss: 0.0401\n",
      "Epoch 27: val_loss improved from 0.04045 to 0.04015, saving model to data/tf_models/autoencoder/autoencoder_27-0.0402.h5\n",
      "1766/1766 [==============================] - 237s 134ms/step - loss: 0.0401 - val_loss: 0.0402\n",
      "Epoch 28/200\n",
      "1766/1766 [==============================] - ETA: 0s - loss: 0.0396\n",
      "Epoch 28: val_loss improved from 0.04015 to 0.03937, saving model to data/tf_models/autoencoder/autoencoder_28-0.0394.h5\n",
      "1766/1766 [==============================] - 237s 134ms/step - loss: 0.0396 - val_loss: 0.0394\n",
      "Epoch 29/200\n",
      "1766/1766 [==============================] - ETA: 0s - loss: 0.0393\n",
      "Epoch 29: val_loss did not improve from 0.03937\n",
      "1766/1766 [==============================] - 238s 135ms/step - loss: 0.0393 - val_loss: 0.0394\n",
      "Epoch 30/200\n",
      "1766/1766 [==============================] - ETA: 0s - loss: 0.0389\n",
      "Epoch 30: val_loss improved from 0.03937 to 0.03887, saving model to data/tf_models/autoencoder/autoencoder_30-0.0389.h5\n",
      "1766/1766 [==============================] - 237s 134ms/step - loss: 0.0389 - val_loss: 0.0389\n",
      "Epoch 31/200\n",
      "1766/1766 [==============================] - ETA: 0s - loss: 0.0385\n",
      "Epoch 31: val_loss improved from 0.03887 to 0.03869, saving model to data/tf_models/autoencoder/autoencoder_31-0.0387.h5\n",
      "1766/1766 [==============================] - 286s 162ms/step - loss: 0.0385 - val_loss: 0.0387\n",
      "Epoch 32/200\n",
      "1766/1766 [==============================] - ETA: 0s - loss: 0.0383\n",
      "Epoch 32: val_loss improved from 0.03869 to 0.03860, saving model to data/tf_models/autoencoder/autoencoder_32-0.0386.h5\n",
      "1766/1766 [==============================] - 343s 194ms/step - loss: 0.0383 - val_loss: 0.0386\n",
      "Epoch 33/200\n",
      "1766/1766 [==============================] - ETA: 0s - loss: 0.0382\n",
      "Epoch 33: val_loss improved from 0.03860 to 0.03816, saving model to data/tf_models/autoencoder/autoencoder_33-0.0382.h5\n",
      "1766/1766 [==============================] - 279s 158ms/step - loss: 0.0382 - val_loss: 0.0382\n",
      "Epoch 34/200\n",
      "1766/1766 [==============================] - ETA: 0s - loss: 0.0381\n",
      "Epoch 34: val_loss did not improve from 0.03816\n",
      "1766/1766 [==============================] - 238s 135ms/step - loss: 0.0381 - val_loss: 0.0383\n",
      "Epoch 35/200\n",
      "1766/1766 [==============================] - ETA: 0s - loss: 0.0380\n",
      "Epoch 35: val_loss improved from 0.03816 to 0.03796, saving model to data/tf_models/autoencoder/autoencoder_35-0.0380.h5\n",
      "1766/1766 [==============================] - 238s 135ms/step - loss: 0.0380 - val_loss: 0.0380\n",
      "Epoch 36/200\n",
      "1766/1766 [==============================] - ETA: 0s - loss: 0.0379\n",
      "Epoch 36: val_loss improved from 0.03796 to 0.03791, saving model to data/tf_models/autoencoder/autoencoder_36-0.0379.h5\n",
      "1766/1766 [==============================] - 237s 134ms/step - loss: 0.0379 - val_loss: 0.0379\n",
      "Epoch 37/200\n",
      "1766/1766 [==============================] - ETA: 0s - loss: 0.0378\n",
      "Epoch 37: val_loss did not improve from 0.03791\n",
      "1766/1766 [==============================] - 237s 134ms/step - loss: 0.0378 - val_loss: 0.0381\n",
      "Epoch 38/200\n",
      "1766/1766 [==============================] - ETA: 0s - loss: 0.0378\n",
      "Epoch 38: val_loss improved from 0.03791 to 0.03781, saving model to data/tf_models/autoencoder/autoencoder_38-0.0378.h5\n",
      "1766/1766 [==============================] - 250s 142ms/step - loss: 0.0378 - val_loss: 0.0378\n",
      "Epoch 39/200\n",
      "1766/1766 [==============================] - ETA: 0s - loss: 0.0377\n",
      "Epoch 39: val_loss did not improve from 0.03781\n",
      "1766/1766 [==============================] - 280s 158ms/step - loss: 0.0377 - val_loss: 0.0379\n",
      "Epoch 40/200\n",
      "1766/1766 [==============================] - ETA: 0s - loss: 0.0377\n",
      "Epoch 40: val_loss improved from 0.03781 to 0.03762, saving model to data/tf_models/autoencoder/autoencoder_40-0.0376.h5\n",
      "1766/1766 [==============================] - 367s 208ms/step - loss: 0.0377 - val_loss: 0.0376\n",
      "Epoch 41/200\n",
      "1766/1766 [==============================] - ETA: 0s - loss: 0.0376\n",
      "Epoch 41: val_loss did not improve from 0.03762\n",
      "1766/1766 [==============================] - 247s 140ms/step - loss: 0.0376 - val_loss: 0.0377\n",
      "Epoch 42/200\n",
      "1766/1766 [==============================] - ETA: 0s - loss: 0.0376\n",
      "Epoch 42: val_loss did not improve from 0.03762\n",
      "1766/1766 [==============================] - 238s 135ms/step - loss: 0.0376 - val_loss: 0.0377\n",
      "Epoch 43/200\n",
      "1766/1766 [==============================] - ETA: 0s - loss: 0.0375\n",
      "Epoch 43: val_loss improved from 0.03762 to 0.03757, saving model to data/tf_models/autoencoder/autoencoder_43-0.0376.h5\n",
      "1766/1766 [==============================] - 238s 135ms/step - loss: 0.0375 - val_loss: 0.0376\n"
     ]
    },
    {
     "data": {
      "text/plain": [
       "<keras.callbacks.History at 0x1b4236670>"
      ]
     },
     "execution_count": 19,
     "metadata": {},
     "output_type": "execute_result"
    }
   ],
   "source": [
    "batch_size = 32\n",
    "epochs = 200\n",
    "\n",
    "cp_early_stopping = EarlyStopping(monitor='val_loss', \n",
    "                               patience=10, \n",
    "                               min_delta=0.001, \n",
    "                               mode='auto')\n",
    "                               \n",
    "cp_model_checkpoint = ModelCheckpoint(\"data/tf_models/autoencoder/autoencoder_{epoch:02d}-{val_loss:.4f}.h5\",\n",
    "                                monitor=f'val_loss',\n",
    "                                save_best_only=True,\n",
    "                                verbose=1,\n",
    "                                mode=\"min\")\n",
    "\n",
    "autoencoder.fit(X_Train, X_Train, batch_size=batch_size, epochs=epochs, validation_data=(X_Test, X_Test), callbacks=[cp_early_stopping, cp_model_checkpoint])"
   ]
  },
  {
   "cell_type": "code",
   "execution_count": 25,
   "metadata": {},
   "outputs": [
    {
     "data": {
      "text/plain": [
       "[<keras.engine.input_layer.InputLayer at 0x158677a90>,\n",
       " <keras.layers.rnn.lstm.LSTM at 0x158677fd0>,\n",
       " <keras.layers.rnn.lstm.LSTM at 0x147eb54c0>]"
      ]
     },
     "execution_count": 25,
     "metadata": {},
     "output_type": "execute_result"
    }
   ],
   "source": [
    "from keras.models import load_model\n",
    "\n",
    "model = load_model(\"data/tf_models/autoencoder/autoencoder_43-0.0376.h5\")\n",
    "\n",
    "model.layers[:3]\n",
    "\n",
    "latent_layer = Model()\n",
    "# loss = 0.0792\n",
    "# X_Test_repr = _encoder.predict(X_Test)\n",
    "# X_Train_repr = _encoder.predict(X_Train)\n",
    "# X_Train_repr.shape, X_Test_repr.shape"
   ]
  },
  {
   "cell_type": "code",
   "execution_count": null,
   "metadata": {},
   "outputs": [
    {
     "data": {
      "text/html": [
       "<style>#sk-container-id-2 {color: black;background-color: white;}#sk-container-id-2 pre{padding: 0;}#sk-container-id-2 div.sk-toggleable {background-color: white;}#sk-container-id-2 label.sk-toggleable__label {cursor: pointer;display: block;width: 100%;margin-bottom: 0;padding: 0.3em;box-sizing: border-box;text-align: center;}#sk-container-id-2 label.sk-toggleable__label-arrow:before {content: \"▸\";float: left;margin-right: 0.25em;color: #696969;}#sk-container-id-2 label.sk-toggleable__label-arrow:hover:before {color: black;}#sk-container-id-2 div.sk-estimator:hover label.sk-toggleable__label-arrow:before {color: black;}#sk-container-id-2 div.sk-toggleable__content {max-height: 0;max-width: 0;overflow: hidden;text-align: left;background-color: #f0f8ff;}#sk-container-id-2 div.sk-toggleable__content pre {margin: 0.2em;color: black;border-radius: 0.25em;background-color: #f0f8ff;}#sk-container-id-2 input.sk-toggleable__control:checked~div.sk-toggleable__content {max-height: 200px;max-width: 100%;overflow: auto;}#sk-container-id-2 input.sk-toggleable__control:checked~label.sk-toggleable__label-arrow:before {content: \"▾\";}#sk-container-id-2 div.sk-estimator input.sk-toggleable__control:checked~label.sk-toggleable__label {background-color: #d4ebff;}#sk-container-id-2 div.sk-label input.sk-toggleable__control:checked~label.sk-toggleable__label {background-color: #d4ebff;}#sk-container-id-2 input.sk-hidden--visually {border: 0;clip: rect(1px 1px 1px 1px);clip: rect(1px, 1px, 1px, 1px);height: 1px;margin: -1px;overflow: hidden;padding: 0;position: absolute;width: 1px;}#sk-container-id-2 div.sk-estimator {font-family: monospace;background-color: #f0f8ff;border: 1px dotted black;border-radius: 0.25em;box-sizing: border-box;margin-bottom: 0.5em;}#sk-container-id-2 div.sk-estimator:hover {background-color: #d4ebff;}#sk-container-id-2 div.sk-parallel-item::after {content: \"\";width: 100%;border-bottom: 1px solid gray;flex-grow: 1;}#sk-container-id-2 div.sk-label:hover label.sk-toggleable__label {background-color: #d4ebff;}#sk-container-id-2 div.sk-serial::before {content: \"\";position: absolute;border-left: 1px solid gray;box-sizing: border-box;top: 0;bottom: 0;left: 50%;z-index: 0;}#sk-container-id-2 div.sk-serial {display: flex;flex-direction: column;align-items: center;background-color: white;padding-right: 0.2em;padding-left: 0.2em;position: relative;}#sk-container-id-2 div.sk-item {position: relative;z-index: 1;}#sk-container-id-2 div.sk-parallel {display: flex;align-items: stretch;justify-content: center;background-color: white;position: relative;}#sk-container-id-2 div.sk-item::before, #sk-container-id-2 div.sk-parallel-item::before {content: \"\";position: absolute;border-left: 1px solid gray;box-sizing: border-box;top: 0;bottom: 0;left: 50%;z-index: -1;}#sk-container-id-2 div.sk-parallel-item {display: flex;flex-direction: column;z-index: 1;position: relative;background-color: white;}#sk-container-id-2 div.sk-parallel-item:first-child::after {align-self: flex-end;width: 50%;}#sk-container-id-2 div.sk-parallel-item:last-child::after {align-self: flex-start;width: 50%;}#sk-container-id-2 div.sk-parallel-item:only-child::after {width: 0;}#sk-container-id-2 div.sk-dashed-wrapped {border: 1px dashed gray;margin: 0 0.4em 0.5em 0.4em;box-sizing: border-box;padding-bottom: 0.4em;background-color: white;}#sk-container-id-2 div.sk-label label {font-family: monospace;font-weight: bold;display: inline-block;line-height: 1.2em;}#sk-container-id-2 div.sk-label-container {text-align: center;}#sk-container-id-2 div.sk-container {/* jupyter's `normalize.less` sets `[hidden] { display: none; }` but bootstrap.min.css set `[hidden] { display: none !important; }` so we also need the `!important` here to be able to override the default hidden behavior on the sphinx rendered scikit-learn.org. See: https://github.com/scikit-learn/scikit-learn/issues/21755 */display: inline-block !important;position: relative;}#sk-container-id-2 div.sk-text-repr-fallback {display: none;}</style><div id=\"sk-container-id-2\" class=\"sk-top-container\"><div class=\"sk-text-repr-fallback\"><pre>LogisticRegressionCV(cv=10, max_iter=500, n_jobs=-1)</pre><b>In a Jupyter environment, please rerun this cell to show the HTML representation or trust the notebook. <br />On GitHub, the HTML representation is unable to render, please try loading this page with nbviewer.org.</b></div><div class=\"sk-container\" hidden><div class=\"sk-item\"><div class=\"sk-estimator sk-toggleable\"><input class=\"sk-toggleable__control sk-hidden--visually\" id=\"sk-estimator-id-2\" type=\"checkbox\" checked><label for=\"sk-estimator-id-2\" class=\"sk-toggleable__label sk-toggleable__label-arrow\">LogisticRegressionCV</label><div class=\"sk-toggleable__content\"><pre>LogisticRegressionCV(cv=10, max_iter=500, n_jobs=-1)</pre></div></div></div></div></div>"
      ],
      "text/plain": [
       "LogisticRegressionCV(cv=10, max_iter=500, n_jobs=-1)"
      ]
     },
     "execution_count": 24,
     "metadata": {},
     "output_type": "execute_result"
    }
   ],
   "source": [
    "from sklearn.linear_model import LogisticRegressionCV\n",
    "\n",
    "logit = LogisticRegressionCV(cv=10, max_iter=500, n_jobs=-1)\n",
    "logit.fit(X_Train_repr, df_train['label'].values)"
   ]
  },
  {
   "cell_type": "code",
   "execution_count": null,
   "metadata": {},
   "outputs": [
    {
     "name": "stdout",
     "output_type": "stream",
     "text": [
      "0.6305157874092959\n",
      "[[6343   70]\n",
      " [3698   87]]\n",
      "0.554140127388535\n",
      "0.02298546895640687\n",
      "0.04414003044140031\n"
     ]
    }
   ],
   "source": [
    "from sklearn.model_selection import cross_val_predict\n",
    "from sklearn.metrics import accuracy_score, confusion_matrix, precision_score, recall_score, f1_score\n",
    "\n",
    "Y_test_predict = logit.predict(X_Test_repr)\n",
    "print(accuracy_score(df_test['label'].values, Y_test_predict))\n",
    "print(confusion_matrix(df_test['label'].values, Y_test_predict))\n",
    "print(precision_score(df_test['label'].values, Y_test_predict))\n",
    "print(recall_score(df_test['label'].values, Y_test_predict))\n",
    "print(f1_score(df_test['label'].values, Y_test_predict))"
   ]
  }
 ],
 "metadata": {
  "kernelspec": {
   "display_name": "Python 3.8.13 ('venv': venv)",
   "language": "python",
   "name": "python3"
  },
  "language_info": {
   "codemirror_mode": {
    "name": "ipython",
    "version": 3
   },
   "file_extension": ".py",
   "mimetype": "text/x-python",
   "name": "python",
   "nbconvert_exporter": "python",
   "pygments_lexer": "ipython3",
   "version": "3.8.13 (default, May 19 2022, 14:42:39) \n[Clang 13.1.6 (clang-1316.0.21.2.5)]"
  },
  "orig_nbformat": 4,
  "vscode": {
   "interpreter": {
    "hash": "f64a0c74deb7bf3d7e8c14a97df286b247c1f958d3f0c1561601ce3ec5d62e37"
   }
  }
 },
 "nbformat": 4,
 "nbformat_minor": 2
}
